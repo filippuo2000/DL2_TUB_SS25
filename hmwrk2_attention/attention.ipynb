{
  "cells": [
    {
      "cell_type": "markdown",
      "metadata": {
        "id": "IIJ3mjOB5xfx"
      },
      "source": [
        "# DL2 - Sheet 02: Attention (50 points)\n",
        "\n"
      ]
    },
    {
      "cell_type": "code",
      "execution_count": 1,
      "metadata": {
        "id": "8JbRSfAt6qeH",
        "scrolled": true
      },
      "outputs": [],
      "source": [
        "# Install the transformers library if necessary\n",
        "# !pip install transformers"
      ]
    },
    {
      "cell_type": "code",
      "execution_count": 2,
      "metadata": {
        "id": "sDyQfA_1GDgN"
      },
      "outputs": [],
      "source": [
        "import torch"
      ]
    },
    {
      "cell_type": "markdown",
      "metadata": {
        "id": "qylqS4zZg4a7"
      },
      "source": [
        "\n",
        "# Intro: Transformers for Sequence Classification\n",
        "\n",
        "In this weeks notebook, we will implement our own Transformer model from scratch. Typical Transformers can be broken down into the following components:\n",
        "Remark: Here, we will focus on the encoding of sentences for the purpose of sentiment classification, the decoder used in sequence2sequences Transformers has a very similar structure.\n",
        "\n",
        "\n",
        "\n",
        "1.   Embedding: An embedding layer that transforms word tokens into vector representations.\n",
        "2.  Encoder: The encoder block consists of several multi-headed attention blocks\n",
        "\n",
        "    2.1.   Attention block 1\n",
        "\n",
        "    2.2.   Attention block 2\n",
        "\n",
        "    ...\n",
        "\n",
        "    2.L.   Attention block L\n",
        "\n",
        "3. Pooling: The final output of the encoder computes one vector representation for each token. To further summarize/pool this information for classification, the [CLS] token at sequence position 0 is typically selected.\n",
        "\n",
        "4. Classification: A standard small MLP is used for classification and outputs probabilites for the most likely predicted class.\n"
      ]
    },
    {
      "cell_type": "markdown",
      "metadata": {
        "id": "4uKBFg887DiO"
      },
      "source": [
        "## Preparation: From sentences to tokens\n",
        "\n",
        "First, we will use hugginface's tokenizer to go from words to indices in the vocabulary. In the following, we will focus on the distilBERT model:\n"
      ]
    },
    {
      "cell_type": "code",
      "execution_count": 3,
      "metadata": {
        "colab": {
          "base_uri": "https://localhost:8080/",
          "height": 308,
          "referenced_widgets": [
            "93393336567d4ed2ae2acd840c20dab8",
            "60659b75dacb476789da7b0618503235",
            "1c33b49959c641c89a8b03fd25815adf",
            "11e52696ea984f9997a50bbae435732e",
            "5b1f141344b0494fad1aea6b54ee8749",
            "4908d8f132af4663be034fade2aa9ada",
            "91a12402a465488abb1011d8d68c2e84",
            "1f52be3e4eb74d9ba90db8a6134ad300",
            "7b859011554640078c6cc14df7cd20bd",
            "21a082b072b0467b8869595ee229e39c",
            "08dad52a49d541f3acbbcdf47e9c9da4",
            "b01c746cd600405dbe4e3db2ae08d6d1",
            "bbd304dc98e74bb7a7ff3b997aa3fdef",
            "9ca777a1b41a46bebc0af4cf32c4e441",
            "f62e00131c8c4440a0a02a19f70e0ce8",
            "623e06a4d2ff4fd1afdbe312caecdbe6",
            "58bf2b59f0a148bca6799b13c95a3051",
            "aed5faa1e6a94015b0981f23151f07ac",
            "d0385948c69443d79b1553a75d72da10",
            "8b745766a4e44fad8ebaf2a7fd5a98c4",
            "906fc4516456406ba36ad82f17d15518",
            "cd9ed3d63c004b22a249f8fce503daf8",
            "ab343f5310ec4527b3a24f5c738b019d",
            "9199e5beb2bb44a9b6d7212f9e810661",
            "6ae02e22bd874574af874750562fb7c5",
            "fceaa9b8787e40f9b653324bba3fd788",
            "bdd5a940c267422591eceb0b0274819d",
            "a4aadfcc5e094702911f19fd357c432f",
            "56c1813a53a8491095476ccb1de2f0d2",
            "9061028b02ea4b008ee47be66d08ed56",
            "196d48c7d52d4acebf59979e391a1033",
            "28aa58a041ce4438b82911197af7b435",
            "76d5db434ed54efe9dc52c2062048aae",
            "4c7dfce1d9ac4bf8b471098cb757d4b3",
            "de000ba381354125ba0e1e99774fbe62",
            "fe0bd2a3f44e4d97a4b77418b632f950",
            "d640a581259c462199d8278fffe84e0f",
            "41968c66b5bf43fdb8b7dcc6b171cbee",
            "48934e792a334d60ac492fe8a40f2b16",
            "17f3834045b84ee9a03ab434c450dab2",
            "c78b30350c064936980eff365254b5bf",
            "a265ade2f9d8484086dcad3c113ddd13",
            "28b30e0bae694baf9577dae89a0ed4dd",
            "af5026ff689a45ed82a103cffa923023"
          ]
        },
        "id": "dog9jZDt7SuB",
        "outputId": "fd9cc763-184e-4ecf-d844-d078bc885dd8"
      },
      "outputs": [
        {
          "name": "stdout",
          "output_type": "stream",
          "text": [
            "{'input_ids': tensor([[ 101, 2023, 2001, 2028, 1997, 1996, 2190, 5691, 1045, 2031, 2412, 2464,\n",
            "         1012,  102]]), 'attention_mask': tensor([[1, 1, 1, 1, 1, 1, 1, 1, 1, 1, 1, 1, 1, 1]])}\n"
          ]
        }
      ],
      "source": [
        "from transformers import AutoTokenizer\n",
        "tokenizer = AutoTokenizer.from_pretrained(\"distilbert-base-uncased\")\n",
        "sentence = \"This was one of the best movies I have ever seen.\"\n",
        "inputs = tokenizer(sentence, return_tensors = 'pt')\n",
        "print(inputs)"
      ]
    },
    {
      "cell_type": "code",
      "execution_count": 4,
      "metadata": {
        "colab": {
          "base_uri": "https://localhost:8080/"
        },
        "id": "9E1kiUhuGDgP",
        "outputId": "4cdd2398-f921-4580-a6cd-0c592713e886"
      },
      "outputs": [
        {
          "data": {
            "text/plain": [
              "{'input_ids': [101, 6616, 102], 'attention_mask': [1, 1, 1]}"
            ]
          },
          "execution_count": 4,
          "metadata": {},
          "output_type": "execute_result"
        }
      ],
      "source": [
        "tokenizer(\"fuck\")"
      ]
    },
    {
      "cell_type": "code",
      "execution_count": 39,
      "metadata": {
        "colab": {
          "base_uri": "https://localhost:8080/",
          "height": 35
        },
        "id": "6DhcwLHfGDgP",
        "outputId": "9b207032-f2a7-47d5-cc19-f04a78258941"
      },
      "outputs": [
        {
          "data": {
            "text/plain": [
              "['[CLS]', 'fuck']"
            ]
          },
          "execution_count": 39,
          "metadata": {},
          "output_type": "execute_result"
        }
      ],
      "source": [
        "tokenizer.convert_ids_to_tokens([101, 6616])"
      ]
    },
    {
      "cell_type": "code",
      "execution_count": 6,
      "metadata": {
        "id": "gobpNbbbGDgP",
        "outputId": "54399cef-c4d4-432f-d164-4537599055d1"
      },
      "outputs": [
        {
          "data": {
            "text/plain": [
              "DistilBertTokenizerFast(name_or_path='distilbert-base-uncased', vocab_size=30522, model_max_length=512, is_fast=True, padding_side='right', truncation_side='right', special_tokens={'unk_token': '[UNK]', 'sep_token': '[SEP]', 'pad_token': '[PAD]', 'cls_token': '[CLS]', 'mask_token': '[MASK]'}, clean_up_tokenization_spaces=False, added_tokens_decoder={\n",
              "\t0: AddedToken(\"[PAD]\", rstrip=False, lstrip=False, single_word=False, normalized=False, special=True),\n",
              "\t100: AddedToken(\"[UNK]\", rstrip=False, lstrip=False, single_word=False, normalized=False, special=True),\n",
              "\t101: AddedToken(\"[CLS]\", rstrip=False, lstrip=False, single_word=False, normalized=False, special=True),\n",
              "\t102: AddedToken(\"[SEP]\", rstrip=False, lstrip=False, single_word=False, normalized=False, special=True),\n",
              "\t103: AddedToken(\"[MASK]\", rstrip=False, lstrip=False, single_word=False, normalized=False, special=True),\n",
              "}\n",
              ")"
            ]
          },
          "execution_count": 6,
          "metadata": {},
          "output_type": "execute_result"
        }
      ],
      "source": [
        "tokenizer"
      ]
    },
    {
      "cell_type": "code",
      "execution_count": 7,
      "metadata": {
        "colab": {
          "base_uri": "https://localhost:8080/"
        },
        "id": "-Lzoe-QSslj7",
        "outputId": "e7e43ff0-d618-4bfb-d198-210d2198611f"
      },
      "outputs": [
        {
          "name": "stdout",
          "output_type": "stream",
          "text": [
            "/bin/bash: wget: command not found\n"
          ]
        },
        {
          "name": "stderr",
          "output_type": "stream",
          "text": [
            "huggingface/tokenizers: The current process just got forked, after parallelism has already been used. Disabling parallelism to avoid deadlocks...\n",
            "To disable this warning, you can either:\n",
            "\t- Avoid using `tokenizers` before the fork if possible\n",
            "\t- Explicitly set the environment variable TOKENIZERS_PARALLELISM=(true | false)\n"
          ]
        }
      ],
      "source": [
        "# Now we download pretrained weights for the model.\n",
        "!wget https://tubcloud.tu-berlin.de/s/GfEoq4r8Sgb2727/download/distilbert.pt"
      ]
    },
    {
      "cell_type": "code",
      "execution_count": 8,
      "metadata": {
        "id": "t7-hhXPY7FY2"
      },
      "outputs": [],
      "source": [
        "# This config contains the model parameters, it will be important to understand what representations\n",
        "# have which dimensionality\n",
        "\n",
        "from torch import nn\n",
        "import torch\n",
        "import math\n",
        "import torch\n",
        "\n",
        "class Config(object):\n",
        "    def __init__(self):\n",
        "        self.n_heads = 12\n",
        "        self.n_layers = 6\n",
        "        self.pad_token_id = 0\n",
        "        self.dim = 768 # num of embedding dimensions for a single token\n",
        "        self.hidden_dim = 3072\n",
        "        self.max_position_embeddings = 512 # max length of a sequence\n",
        "        self.vocab_size = 30522\n",
        "        self.eps = 1e-12\n",
        "\n",
        "        self.attention_head_size = int(self.dim / self.n_heads)\n",
        "        self.all_head_size = self.n_heads * self.attention_head_size\n",
        "\n",
        "        self.n_classes = 2\n",
        "        self.device = 'mps' if torch.backends.mps.is_available() else 'cpu'\n",
        "\n",
        "config = Config()"
      ]
    },
    {
      "cell_type": "code",
      "execution_count": 9,
      "metadata": {
        "colab": {
          "base_uri": "https://localhost:8080/"
        },
        "id": "vlYKbS0OGDgQ",
        "outputId": "c259f842-fd55-4fdf-9409-c6c206567343"
      },
      "outputs": [
        {
          "data": {
            "text/plain": [
              "True"
            ]
          },
          "execution_count": 9,
          "metadata": {},
          "output_type": "execute_result"
        }
      ],
      "source": [
        "config.all_head_size == config.dim"
      ]
    },
    {
      "cell_type": "markdown",
      "metadata": {
        "id": "cr0TwrwBqT0P"
      },
      "source": [
        "# 1. Embedding Layer (5p)\n",
        "Next, we will have to implement the Embedding layer.\n",
        "\n",
        "\n",
        "1.   forward: compute the output embeddings from the input_embeds and position_embeds. (Think about how they are merged.)\n",
        "\n",
        "\n"
      ]
    },
    {
      "cell_type": "code",
      "execution_count": 10,
      "metadata": {
        "id": "YmDPyUH27PUW"
      },
      "outputs": [],
      "source": [
        "torch.manual_seed(0) # set seed for reproducible random initialization of weights\n",
        "\n",
        "class Embeddings(nn.Module):\n",
        "    def __init__(self, config):\n",
        "        super().__init__()\n",
        "        # these embeddings at random at start, learned during training\n",
        "        self.word_embeddings = nn.Embedding(config.vocab_size, config.dim, padding_idx=config.pad_token_id)\n",
        "        self.position_embeddings = nn.Embedding(config.max_position_embeddings, config.dim)\n",
        "        self.LayerNorm = nn.LayerNorm(config.dim, eps=config.eps)\n",
        "\n",
        "    def forward(self, input_ids: torch.Tensor) -> torch.Tensor:\n",
        "        \"\"\"\n",
        "        Parameters:\n",
        "            input_ids (torch.Tensor):\n",
        "                torch.tensor(bs, max_seq_length) The token ids to embed.\n",
        "        Returns: torch.tensor(bs, max_seq_length, dim) The embedded tokens (plus position embeddings)\n",
        "        \"\"\"\n",
        "\n",
        "        # Embedding the input ids\n",
        "        input_embeds = self.word_embeddings(input_ids)  # (bs, max_seq_length, dim)\n",
        "        seq_length = input_embeds.size(1)\n",
        "\n",
        "        # Creating and embedding the position ids - instead of max_seq_len we could think of len of actual sentence\n",
        "        position_ids = torch.arange(seq_length, dtype=torch.long, device=input_ids.device)  # (max_seq_length)\n",
        "        position_ids = position_ids.unsqueeze(0).expand_as(input_ids)  # (bs, max_seq_length)\n",
        "        position_embeddings = self.position_embeddings(position_ids)  # (bs, max_seq_length, dim)\n",
        "\n",
        "        # Compute the output embeddings\n",
        "\n",
        "        # 1. START YOUR CODE HERE #\n",
        "\n",
        "        embeddings = input_embeds + position_embeddings\n",
        "\n",
        "        # 1. END YOUR CODE HERE #\n",
        "\n",
        "        embeddings = self.LayerNorm(embeddings)  # (bs, max_seq_length, dim)\n",
        "        return embeddings\n",
        "\n",
        "embedding_layer = Embeddings(config)\n",
        "# Test if your embedding layer computes an output\n",
        "embeddings = embedding_layer(inputs['input_ids'])\n"
      ]
    },
    {
      "cell_type": "code",
      "execution_count": 11,
      "metadata": {
        "id": "-N_rbQQXGDgR",
        "outputId": "789f57aa-102e-4234-e418-6beacf20c9ec"
      },
      "outputs": [
        {
          "data": {
            "text/plain": [
              "torch.Size([1, 14, 768])"
            ]
          },
          "execution_count": 11,
          "metadata": {},
          "output_type": "execute_result"
        }
      ],
      "source": [
        "embeddings.shape"
      ]
    },
    {
      "cell_type": "code",
      "execution_count": 12,
      "metadata": {
        "id": "gChSqmzRGDgS"
      },
      "outputs": [],
      "source": [
        "position_embeddings = nn.Embedding(config.max_position_embeddings, config.dim)\n",
        "word_embeddings = nn.Embedding(config.vocab_size, config.dim, padding_idx=config.pad_token_id)\n"
      ]
    },
    {
      "cell_type": "code",
      "execution_count": 13,
      "metadata": {
        "id": "QwUVRS7_GDgS",
        "outputId": "a8b00ada-0d95-4bc3-d23d-ddfa99472d7c"
      },
      "outputs": [
        {
          "data": {
            "text/plain": [
              "torch.Size([4, 768])"
            ]
          },
          "execution_count": 13,
          "metadata": {},
          "output_type": "execute_result"
        }
      ],
      "source": [
        "position_embeddings(torch.tensor([1, 2, 3, 4])).shape\n",
        "word_embeddings(torch.tensor([1, 2, 3, 4])).shape"
      ]
    },
    {
      "cell_type": "code",
      "execution_count": 14,
      "metadata": {
        "id": "l6u5OxoRGDgS",
        "outputId": "88cbf140-97d7-4fac-bc48-5c358c7e8f95"
      },
      "outputs": [
        {
          "data": {
            "text/plain": [
              "tensor([[ 0,  1,  2,  3,  4,  5,  6,  7,  8,  9, 10, 11, 12, 13, 14],\n",
              "        [ 0,  1,  2,  3,  4,  5,  6,  7,  8,  9, 10, 11, 12, 13, 14],\n",
              "        [ 0,  1,  2,  3,  4,  5,  6,  7,  8,  9, 10, 11, 12, 13, 14],\n",
              "        [ 0,  1,  2,  3,  4,  5,  6,  7,  8,  9, 10, 11, 12, 13, 14],\n",
              "        [ 0,  1,  2,  3,  4,  5,  6,  7,  8,  9, 10, 11, 12, 13, 14],\n",
              "        [ 0,  1,  2,  3,  4,  5,  6,  7,  8,  9, 10, 11, 12, 13, 14],\n",
              "        [ 0,  1,  2,  3,  4,  5,  6,  7,  8,  9, 10, 11, 12, 13, 14],\n",
              "        [ 0,  1,  2,  3,  4,  5,  6,  7,  8,  9, 10, 11, 12, 13, 14],\n",
              "        [ 0,  1,  2,  3,  4,  5,  6,  7,  8,  9, 10, 11, 12, 13, 14],\n",
              "        [ 0,  1,  2,  3,  4,  5,  6,  7,  8,  9, 10, 11, 12, 13, 14]])"
            ]
          },
          "execution_count": 14,
          "metadata": {},
          "output_type": "execute_result"
        }
      ],
      "source": [
        "p = torch.arange(15)\n",
        "p = p.unsqueeze(0).expand_as(torch.ones((10, 15)))\n",
        "p"
      ]
    },
    {
      "cell_type": "markdown",
      "metadata": {
        "id": "tX9Hr4HyuyYX"
      },
      "source": [
        "# 2. Attention Block (20 points)\n",
        "The next step is writing the attention block. It mainly consits of the self-attention function (that you have analyzed in the first part of the exercise sheet), a layer normalization followed by an additional projection layer.\n",
        "\n",
        "Please add the missing code:\n",
        "\n",
        "\n",
        "1.   \\_\\_init\\_\\_: Add the Linear projections for the query, key and value functions. Make sure your set the correct dimensions.\n",
        "2.   forward: Write the main self-attention function. Follow the three main steps as indicated in the comments below.\n",
        "\n",
        "\n"
      ]
    },
    {
      "cell_type": "code",
      "execution_count": 92,
      "metadata": {
        "colab": {
          "base_uri": "https://localhost:8080/"
        },
        "id": "aQU3ZBanto79",
        "outputId": "d6ee37eb-87ea-4be5-81c9-91fe9cbdbac1",
        "scrolled": true
      },
      "outputs": [],
      "source": [
        "torch.manual_seed(0)\n",
        "\n",
        "class AttentionBlock(nn.Module):\n",
        "    def __init__(self, config):\n",
        "        super().__init__()\n",
        "        self.config = config\n",
        "\n",
        "        # self-attention components\n",
        "\n",
        "        # 1. START YOUR CODE HERE #\n",
        "\n",
        "        self.q_lin = nn.Linear(in_features=config.dim, out_features=config.dim, bias=True)\n",
        "        self.k_lin = nn.Linear(in_features=config.dim, out_features=config.dim, bias=True)\n",
        "        self.v_lin = nn.Linear(in_features=config.dim, out_features=config.dim, bias=True)\n",
        "\n",
        "        # 1. END YOUR CODE HERE #\n",
        "\n",
        "        self.out_lin = nn.Linear(in_features=config.dim, out_features=config.dim, bias=True)\n",
        "        self.sa_layer_norm = nn.LayerNorm(normalized_shape=config.dim, eps=config.eps)\n",
        "\n",
        "        # feed-forward network\n",
        "        self.lin1 = nn.Linear(in_features=config.dim, out_features=3072, bias=True)\n",
        "        self.lin2 = nn.Linear(in_features=3072, out_features=config.dim, bias=True)\n",
        "        self.output_layer_norm = nn.LayerNorm(normalized_shape=config.dim, eps=config.eps)\n",
        "\n",
        "\n",
        "    def forward(self, hidden_states):\n",
        "\n",
        "        def shape(x):\n",
        "            \"\"\" separate heads \"\"\"\n",
        "            return x.view(1, -1, 12, 64).transpose(1, 2)\n",
        "\n",
        "        def unshape(x):\n",
        "            \"\"\" group heads \"\"\"\n",
        "            return x.transpose(1, 2).contiguous().view(1, -1, 12 * 64)\n",
        "\n",
        "        bs=hidden_states.shape[0] # batch size\n",
        "        n_nodes= hidden_states.shape[1] # num of words?\n",
        "\n",
        "        query=key=value=hidden_states\n",
        "        q = self.q_lin(query)\n",
        "        k = self.k_lin(key)\n",
        "        v = self.v_lin(value)\n",
        "\n",
        "        # Separating the heads\n",
        "        q = shape(q)  # (bs, n_heads, q_length, dim_per_head)\n",
        "        k = shape(k)  # (bs, n_heads, k_length, dim_per_head)\n",
        "        v = shape(v)  # (bs, n_heads, k_length, dim_per_head)\n",
        "\n",
        "        # Normalizing the query-tensor\n",
        "        q = q / math.sqrt(q.shape[-1])\n",
        "\n",
        "\n",
        "        # 2. START YOUR CODE HERE #\n",
        "\n",
        "        # Compute attention scores\n",
        "\n",
        "        # print(f\"shape of k is {k.shape}\")\n",
        "        # print(f\"shape of v is {v.shape}\")\n",
        "        # print(f\"shape of k transpose is {k.transpose(3, 2).shape}\")\n",
        "\n",
        "        att_scores = q @ k.transpose(3, 2) # shape of (bs, n_heads, n, n)\n",
        "\n",
        "        # Transform the scores into probability distribution via softmax\n",
        "\n",
        "        softmax = nn.Softmax(dim=3)\n",
        "        att_scores = softmax(att_scores)\n",
        "\n",
        "        # Compute the weighted representation of the value-tensor (aka context)\n",
        "\n",
        "        context = att_scores @ v\n",
        "\n",
        "\n",
        "        # 2. END YOUR CODE HERE #\n",
        "\n",
        "        # Merging the heads again\n",
        "        context = unshape(context)  # (bs, q_length, dim)\n",
        "\n",
        "        # Additional projection of the context to get the output of the self-attention block\n",
        "        sa_output = self.out_lin(context)\n",
        "        sa_output = self.sa_layer_norm(sa_output + hidden_states)\n",
        "\n",
        "        # Feed-forward network to compute the attention block output\n",
        "        x = self.lin1(sa_output)\n",
        "        x = nn.functional.gelu(x)\n",
        "        ffn_output = self.lin2(x)\n",
        "        ffn_output = self.output_layer_norm(ffn_output + sa_output)\n",
        "        # print(f\"shape of output is: {ffn_output.shape}\")\n",
        "        return ffn_output, att_scores\n",
        "\n",
        "block = AttentionBlock(config)\n",
        "# Test if your attention block computes an output\n",
        "block_output = block(embeddings)"
      ]
    },
    {
      "cell_type": "code",
      "execution_count": 16,
      "metadata": {
        "colab": {
          "base_uri": "https://localhost:8080/"
        },
        "id": "deb4XAkwGDgT",
        "outputId": "1f6cef77-d40d-490e-bca2-88a21fcf2d8c"
      },
      "outputs": [
        {
          "data": {
            "text/plain": [
              "(torch.Size([1, 14, 768]), torch.Size([1, 12, 14, 14]))"
            ]
          },
          "execution_count": 16,
          "metadata": {},
          "output_type": "execute_result"
        }
      ],
      "source": [
        "block_output[0].shape, block_output[1].shape"
      ]
    },
    {
      "cell_type": "code",
      "execution_count": 17,
      "metadata": {
        "id": "8hCglnBrGDgT",
        "outputId": "03817650-43aa-4278-dbdc-16b39d5a751c"
      },
      "outputs": [
        {
          "name": "stdout",
          "output_type": "stream",
          "text": [
            "torch.Size([1, 12, 14, 14])\n",
            "torch.Size([1, 14, 168])\n"
          ]
        },
        {
          "data": {
            "text/plain": [
              "torch.Size([1, 14, 768])"
            ]
          },
          "execution_count": 17,
          "metadata": {},
          "output_type": "execute_result"
        }
      ],
      "source": [
        "k = torch.ones((1, 12, 14, 768))\n",
        "v = torch.ones((1, 12, 14, 768))\n",
        "att = k @ v.transpose(3, 2)\n",
        "print(att.shape)\n",
        "\n",
        "softmax = nn.Softmax(dim=1)\n",
        "att = softmax(att)\n",
        "\n",
        "att = att.transpose(1,2).contiguous().view(1, -1, 12*14)\n",
        "print(att.shape)\n",
        "ffn = nn.Linear(in_features=168, out_features=768)\n",
        "out = ffn(att)\n",
        "out.shape"
      ]
    },
    {
      "cell_type": "code",
      "execution_count": 18,
      "metadata": {
        "colab": {
          "base_uri": "https://localhost:8080/"
        },
        "id": "clcYGh7dRzTe",
        "outputId": "63973685-e291-4ee6-e1e7-f6a2c643f702"
      },
      "outputs": [
        {
          "name": "stdout",
          "output_type": "stream",
          "text": [
            "shape of output is: torch.Size([1, 14, 768])\n",
            "0\n",
            "shape of output is: torch.Size([1, 14, 768])\n",
            "1\n",
            "shape of output is: torch.Size([1, 14, 768])\n",
            "2\n",
            "shape of output is: torch.Size([1, 14, 768])\n",
            "3\n",
            "shape of output is: torch.Size([1, 14, 768])\n",
            "4\n",
            "shape of output is: torch.Size([1, 14, 768])\n",
            "5\n"
          ]
        }
      ],
      "source": [
        "att_layers = [AttentionBlock(config) for _ in range(config.n_layers)]\n",
        "# model = nn.Sequential(*att_layers)\n",
        "\n",
        "encoder_input = torch.ones((1, 14, 768), dtype=torch.float)\n",
        "for i, layer in enumerate(att_layers):\n",
        "    output, att_scores = layer(encoder_input)\n",
        "    encoder_input = output\n",
        "    print(i)"
      ]
    },
    {
      "cell_type": "markdown",
      "metadata": {
        "id": "bcCPG7i54bme"
      },
      "source": [
        "# 3. Building the model (15 points)\n",
        "\n",
        "Now, we can finally put it all together. For this, please, write the following missing code:\n",
        "\n",
        "\n",
        "1.   \\_\\_init\\_\\_: Add the attention layers (the encoder) to the model.\n",
        "2.   forward: Add the missing code for sequentially looping through the attention layers.\n",
        "3. forward: Add the classifier, which consists of [1. pre_classifier, 2. ReLU activation, 3. classifier] and eventually returns the logit scores.\n",
        "\n",
        "\n"
      ]
    },
    {
      "cell_type": "code",
      "execution_count": 99,
      "metadata": {
        "id": "gRF7FjRc4Am_"
      },
      "outputs": [],
      "source": [
        "torch.manual_seed(0)\n",
        "\n",
        "class DistillBertAttention(nn.Module):\n",
        "    def __init__(self, config):\n",
        "        super().__init__()\n",
        "        self.config = config\n",
        "        self.n_layers=config.n_layers\n",
        "\n",
        "        # embedding\n",
        "        self.embeddings = Embeddings(config)\n",
        "\n",
        "        # encoder\n",
        "        # 1. START YOUR CODE HERE #\n",
        "\n",
        "        self.attention_layers = nn.ModuleList(AttentionBlock(config) for _ in range(config.n_layers))\n",
        "        # self.att_layers = nn.Sequential(*att_layers)\n",
        "\n",
        "        # 1. END YOUR CODE HERE #\n",
        "\n",
        "        # classification\n",
        "        self.pre_classifier =  nn.Linear(in_features=config.dim, out_features=config.dim, bias=True)\n",
        "        self.classifier =  nn.Linear(in_features=config.dim, out_features=config.n_classes, bias=True)\n",
        "\n",
        "        self.attention_probs = {i: [] for i in range(config.n_layers)}\n",
        "\n",
        "    def forward(self, input_ids):\n",
        "        \"\"\"\n",
        "        Parameters:\n",
        "            input_ids (torch.Tensor): torch.tensor(bs, max_seq_length) The token ids to embed.\n",
        "        Returns: torch.tensor(bs, n_classes) The computed logit scores for each class.\n",
        "        \"\"\"\n",
        "\n",
        "        # Computing the embeddings\n",
        "        hidden_states =  self.embeddings(input_ids=input_ids).to(self.config.device)\n",
        "\n",
        "        # Iteratively going through the attention layers\n",
        "        encoder_input = hidden_states\n",
        "        # 2. START YOUR CODE HERE #\n",
        "\n",
        "        for i, layer in enumerate(self.attention_layers):\n",
        "            output, att_scores = layer(encoder_input)\n",
        "            encoder_input = output\n",
        "            self.attention_probs[i] = att_scores\n",
        "\n",
        "        # 2. END YOUR CODE HERE #\n",
        "\n",
        "        # Pooling by selection the [CLS] token\n",
        "        pooled_output = output[:, 0]  # (bs, dim)\n",
        "\n",
        "        # Classification\n",
        "        # 3. START YOUR CODE HERE #\n",
        "\n",
        "        pooled_output = self.pre_classifier(pooled_output)\n",
        "        logits = self.classifier(pooled_output)\n",
        "\n",
        "        # 3. END YOUR CODE HERE #\n",
        "\n",
        "        return logits\n",
        "\n",
        "model = DistillBertAttention(config)\n",
        "model = model.to(config.device)\n",
        "state_dict = torch.load('distilbert.pt')\n",
        "_ = model.load_state_dict(state_dict)\n",
        "_ = model.eval()"
      ]
    },
    {
      "cell_type": "code",
      "execution_count": 24,
      "metadata": {
        "colab": {
          "base_uri": "https://localhost:8080/"
        },
        "collapsed": true,
        "id": "nShWppdO5gO8",
        "outputId": "8aeff10a-efde-4f58-d046-5ea93283bc27"
      },
      "outputs": [
        {
          "name": "stdout",
          "output_type": "stream",
          "text": [
            "shape of output is: torch.Size([1, 14, 768])\n",
            "shape of output is: torch.Size([1, 14, 768])\n",
            "shape of output is: torch.Size([1, 14, 768])\n",
            "shape of output is: torch.Size([1, 14, 768])\n",
            "shape of output is: torch.Size([1, 14, 768])\n",
            "shape of output is: torch.Size([1, 14, 768])\n"
          ]
        }
      ],
      "source": [
        "# Predict your output\n",
        "inputs = inputs.to(config.device)\n",
        "logits = model(inputs['input_ids'])"
      ]
    },
    {
      "cell_type": "code",
      "execution_count": 25,
      "metadata": {
        "colab": {
          "base_uri": "https://localhost:8080/"
        },
        "id": "RV7xGQsbT9Vp",
        "outputId": "d569ad68-87a2-42b3-f1ac-1c4d3220894e"
      },
      "outputs": [
        {
          "data": {
            "text/plain": [
              "tensor([[-6.2358,  6.6275]], device='mps:0', grad_fn=<LinearBackward0>)"
            ]
          },
          "execution_count": 25,
          "metadata": {},
          "output_type": "execute_result"
        }
      ],
      "source": [
        "logits"
      ]
    },
    {
      "cell_type": "markdown",
      "metadata": {
        "id": "265U1cxLzy_s"
      },
      "source": [
        "# 4. Visualize the attention weights (10 points)\n",
        "\n",
        "Let's now look at what tokens the model selects in its self-attention blocks.\n",
        "\n",
        "1.   Use the tokenizer to map the 'input_ids' back to 'tokens'.\n",
        "2.   Extract attention probabilities for every layer by averaging over the attention heads in each layer. You should get a matrix of size [n_layers x seq_length x seq_length]\n",
        "3. For each layer plot the resulting attention matrix. Hint: Use cmap='Reds' and vmin=0, vmax=1."
      ]
    },
    {
      "cell_type": "code",
      "execution_count": 44,
      "metadata": {
        "id": "ncFjtnQHT80i"
      },
      "outputs": [],
      "source": [
        "torch.mean(model.attention_probs[0], dim=1).squeeze(0).shape\n",
        "att_probs = {i: [] for i in range(config.n_layers)}"
      ]
    },
    {
      "cell_type": "code",
      "execution_count": 47,
      "metadata": {},
      "outputs": [],
      "source": [
        "for key, val in model.attention_probs.items():\n",
        "    att_probs[key] = torch.mean(val, axis=1).squeeze(0).detach().cpu().numpy()"
      ]
    },
    {
      "cell_type": "code",
      "execution_count": 65,
      "metadata": {},
      "outputs": [],
      "source": [
        "# Fastest way to convert dict of matrices into a 3D matrix\n",
        "\n",
        "att_matrices = np.stack(list(att_probs.values())).shape"
      ]
    },
    {
      "cell_type": "code",
      "execution_count": 58,
      "metadata": {},
      "outputs": [
        {
          "name": "stdout",
          "output_type": "stream",
          "text": [
            "0 (14, 14)\n",
            "1 (14, 14)\n",
            "2 (14, 14)\n",
            "3 (14, 14)\n",
            "4 (14, 14)\n",
            "5 (14, 14)\n"
          ]
        }
      ],
      "source": [
        "# you can iterate after values only !!!\n",
        "for i, val in enumerate(att_probs.values()):\n",
        "    print(i, val.shape)"
      ]
    },
    {
      "cell_type": "code",
      "execution_count": 111,
      "metadata": {},
      "outputs": [],
      "source": [
        "import numpy as np\n",
        "import matplotlib.pyplot as plt\n",
        "\n",
        "def show_att_heatmaps(tokens: list, att_maps):\n",
        "    words = tokenizer.convert_ids_to_tokens(tokens)\n",
        "    for i in att_maps:\n",
        "        att_weights = att_probs[i]\n",
        "        plt.imshow(att_weights, cmap='Reds', vmin=0, vmax=1)\n",
        "        plt.xticks(ticks=range(len(words)), labels=words, rotation=45)\n",
        "        plt.yticks(ticks=range(len(words)), labels=words, rotation=0)\n",
        "        plt.colorbar()\n",
        "        plt.show()\n"
      ]
    },
    {
      "cell_type": "code",
      "execution_count": 95,
      "metadata": {},
      "outputs": [
        {
          "name": "stdout",
          "output_type": "stream",
          "text": [
            "{'input_ids': tensor([[ 101, 1045, 5223, 2032,  102]]), 'attention_mask': tensor([[1, 1, 1, 1, 1]])}\n"
          ]
        }
      ],
      "source": [
        "sentence = \"I hate him\"\n",
        "inputs2 = tokenizer(sentence, return_tensors = 'pt')\n",
        "print(inputs2)"
      ]
    },
    {
      "cell_type": "code",
      "execution_count": 112,
      "metadata": {},
      "outputs": [
        {
          "name": "stdout",
          "output_type": "stream",
          "text": [
            "Result is Negative\n"
          ]
        },
        {
          "data": {
            "image/png": "[encoded data removed]",
            "text/plain": [
              "<Figure size 640x480 with 2 Axes>"
            ]
          },
          "metadata": {},
          "output_type": "display_data"
        },
        {
          "data": {
            "image/png": "[encoded data removed]",
            "text/plain": [
              "<Figure size 640x480 with 2 Axes>"
            ]
          },
          "metadata": {},
          "output_type": "display_data"
        },
        {
          "data": {
            "image/png": "[encoded data removed]",
            "text/plain": [
              "<Figure size 640x480 with 2 Axes>"
            ]
          },
          "metadata": {},
          "output_type": "display_data"
        },
        {
          "data": {
            "image/png": "[encoded data removed]",
            "text/plain": [
              "<Figure size 640x480 with 2 Axes>"
            ]
          },
          "metadata": {},
          "output_type": "display_data"
        },
        {
          "data": {
            "image/png": "[encoded data removed]",
            "text/plain": [
              "<Figure size 640x480 with 2 Axes>"
            ]
          },
          "metadata": {},
          "output_type": "display_data"
        },
        {
          "data": {
            "image/png": "[encoded data removed]",
            "text/plain": [
              "<Figure size 640x480 with 2 Axes>"
            ]
          },
          "metadata": {},
          "output_type": "display_data"
        }
      ],
      "source": [
        "results = {0: \"Negative\", 1: \"Positive\"}\n",
        "inputs2 = inputs2.to(config.device)\n",
        "logits = model(inputs2['input_ids'])\n",
        "\n",
        "print(f\"Result is {results[torch.argmax(logits).item()]}\")\n",
        "\n",
        "att_probs = {i: [] for i in range(config.n_layers)}\n",
        "for key, val in model.attention_probs.items():\n",
        "    att_probs[key] = torch.mean(val, axis=1).squeeze(0).detach().cpu().numpy()\n",
        "show_att_heatmaps(inputs2['input_ids'][0], att_probs)"
      ]
    },
    {
      "cell_type": "code",
      "execution_count": 91,
      "metadata": {},
      "outputs": [
        {
          "data": {
            "image/png": "[encoded data removed]",
            "text/plain": [
              "<Figure size 640x480 with 2 Axes>"
            ]
          },
          "metadata": {},
          "output_type": "display_data"
        },
        {
          "data": {
            "image/png": "[encoded data removed]",
            "text/plain": [
              "<Figure size 640x480 with 2 Axes>"
            ]
          },
          "metadata": {},
          "output_type": "display_data"
        },
        {
          "data": {
            "image/png": "[encoded data removed]",
            "text/plain": [
              "<Figure size 640x480 with 2 Axes>"
            ]
          },
          "metadata": {},
          "output_type": "display_data"
        },
        {
          "data": {
            "image/png": "[encoded data removed]",
            "text/plain": [
              "<Figure size 640x480 with 2 Axes>"
            ]
          },
          "metadata": {},
          "output_type": "display_data"
        },
        {
          "data": {
            "image/png": "[encoded data removed]",
            "text/plain": [
              "<Figure size 640x480 with 2 Axes>"
            ]
          },
          "metadata": {},
          "output_type": "display_data"
        },
        {
          "data": {
            "image/png": "[encoded data removed]",
            "text/plain": [
              "<Figure size 640x480 with 2 Axes>"
            ]
          },
          "metadata": {},
          "output_type": "display_data"
        }
      ],
      "source": [
        "show_att_heatmaps(inputs['input_ids'][0], att_probs)"
      ]
    },
    {
      "cell_type": "code",
      "execution_count": null,
      "metadata": {},
      "outputs": [],
      "source": []
    },
    {
      "cell_type": "code",
      "execution_count": null,
      "metadata": {},
      "outputs": [],
      "source": []
    }
  ],
  "metadata": {
    "colab": {
      "provenance": []
    },
    "kernelspec": {
      "display_name": "Python 3 (ipykernel)",
      "language": "python",
      "name": "python3"
    },
    "language_info": {
      "codemirror_mode": {
        "name": "ipython",
        "version": 3
      },
      "file_extension": ".py",
      "mimetype": "text/x-python",
      "name": "python",
      "nbconvert_exporter": "python",
      "pygments_lexer": "ipython3",
      "version": "3.12.9"
    },
    "widgets": {
      "application/vnd.jupyter.widget-state+json": {
        "08dad52a49d541f3acbbcdf47e9c9da4": {
          "model_module": "@jupyter-widgets/controls",
          "model_module_version": "1.5.0",
          "model_name": "DescriptionStyleModel",
          "state": {
            "_model_module": "@jupyter-widgets/controls",
            "_model_module_version": "1.5.0",
            "_model_name": "DescriptionStyleModel",
            "_view_count": null,
            "_view_module": "@jupyter-widgets/base",
            "_view_module_version": "1.2.0",
            "_view_name": "StyleView",
            "description_width": ""
          }
        },
        "11e52696ea984f9997a50bbae435732e": {
          "model_module": "@jupyter-widgets/controls",
          "model_module_version": "1.5.0",
          "model_name": "HTMLModel",
          "state": {
            "_dom_classes": [],
            "_model_module": "@jupyter-widgets/controls",
            "_model_module_version": "1.5.0",
            "_model_name": "HTMLModel",
            "_view_count": null,
            "_view_module": "@jupyter-widgets/controls",
            "_view_module_version": "1.5.0",
            "_view_name": "HTMLView",
            "description": "",
            "description_tooltip": null,
            "layout": "IPY_MODEL_21a082b072b0467b8869595ee229e39c",
            "placeholder": "​",
            "style": "IPY_MODEL_08dad52a49d541f3acbbcdf47e9c9da4",
            "value": " 48.0/48.0 [00:00&lt;00:00, 748B/s]"
          }
        },
        "17f3834045b84ee9a03ab434c450dab2": {
          "model_module": "@jupyter-widgets/controls",
          "model_module_version": "1.5.0",
          "model_name": "DescriptionStyleModel",
          "state": {
            "_model_module": "@jupyter-widgets/controls",
            "_model_module_version": "1.5.0",
            "_model_name": "DescriptionStyleModel",
            "_view_count": null,
            "_view_module": "@jupyter-widgets/base",
            "_view_module_version": "1.2.0",
            "_view_name": "StyleView",
            "description_width": ""
          }
        },
        "196d48c7d52d4acebf59979e391a1033": {
          "model_module": "@jupyter-widgets/controls",
          "model_module_version": "1.5.0",
          "model_name": "ProgressStyleModel",
          "state": {
            "_model_module": "@jupyter-widgets/controls",
            "_model_module_version": "1.5.0",
            "_model_name": "ProgressStyleModel",
            "_view_count": null,
            "_view_module": "@jupyter-widgets/base",
            "_view_module_version": "1.2.0",
            "_view_name": "StyleView",
            "bar_color": null,
            "description_width": ""
          }
        },
        "1c33b49959c641c89a8b03fd25815adf": {
          "model_module": "@jupyter-widgets/controls",
          "model_module_version": "1.5.0",
          "model_name": "FloatProgressModel",
          "state": {
            "_dom_classes": [],
            "_model_module": "@jupyter-widgets/controls",
            "_model_module_version": "1.5.0",
            "_model_name": "FloatProgressModel",
            "_view_count": null,
            "_view_module": "@jupyter-widgets/controls",
            "_view_module_version": "1.5.0",
            "_view_name": "ProgressView",
            "bar_style": "success",
            "description": "",
            "description_tooltip": null,
            "layout": "IPY_MODEL_1f52be3e4eb74d9ba90db8a6134ad300",
            "max": 48,
            "min": 0,
            "orientation": "horizontal",
            "style": "IPY_MODEL_7b859011554640078c6cc14df7cd20bd",
            "value": 48
          }
        },
        "1f52be3e4eb74d9ba90db8a6134ad300": {
          "model_module": "@jupyter-widgets/base",
          "model_module_version": "1.2.0",
          "model_name": "LayoutModel",
          "state": {
            "_model_module": "@jupyter-widgets/base",
            "_model_module_version": "1.2.0",
            "_model_name": "LayoutModel",
            "_view_count": null,
            "_view_module": "@jupyter-widgets/base",
            "_view_module_version": "1.2.0",
            "_view_name": "LayoutView",
            "align_content": null,
            "align_items": null,
            "align_self": null,
            "border": null,
            "bottom": null,
            "display": null,
            "flex": null,
            "flex_flow": null,
            "grid_area": null,
            "grid_auto_columns": null,
            "grid_auto_flow": null,
            "grid_auto_rows": null,
            "grid_column": null,
            "grid_gap": null,
            "grid_row": null,
            "grid_template_areas": null,
            "grid_template_columns": null,
            "grid_template_rows": null,
            "height": null,
            "justify_content": null,
            "justify_items": null,
            "left": null,
            "margin": null,
            "max_height": null,
            "max_width": null,
            "min_height": null,
            "min_width": null,
            "object_fit": null,
            "object_position": null,
            "order": null,
            "overflow": null,
            "overflow_x": null,
            "overflow_y": null,
            "padding": null,
            "right": null,
            "top": null,
            "visibility": null,
            "width": null
          }
        },
        "21a082b072b0467b8869595ee229e39c": {
          "model_module": "@jupyter-widgets/base",
          "model_module_version": "1.2.0",
          "model_name": "LayoutModel",
          "state": {
            "_model_module": "@jupyter-widgets/base",
            "_model_module_version": "1.2.0",
            "_model_name": "LayoutModel",
            "_view_count": null,
            "_view_module": "@jupyter-widgets/base",
            "_view_module_version": "1.2.0",
            "_view_name": "LayoutView",
            "align_content": null,
            "align_items": null,
            "align_self": null,
            "border": null,
            "bottom": null,
            "display": null,
            "flex": null,
            "flex_flow": null,
            "grid_area": null,
            "grid_auto_columns": null,
            "grid_auto_flow": null,
            "grid_auto_rows": null,
            "grid_column": null,
            "grid_gap": null,
            "grid_row": null,
            "grid_template_areas": null,
            "grid_template_columns": null,
            "grid_template_rows": null,
            "height": null,
            "justify_content": null,
            "justify_items": null,
            "left": null,
            "margin": null,
            "max_height": null,
            "max_width": null,
            "min_height": null,
            "min_width": null,
            "object_fit": null,
            "object_position": null,
            "order": null,
            "overflow": null,
            "overflow_x": null,
            "overflow_y": null,
            "padding": null,
            "right": null,
            "top": null,
            "visibility": null,
            "width": null
          }
        },
        "28aa58a041ce4438b82911197af7b435": {
          "model_module": "@jupyter-widgets/base",
          "model_module_version": "1.2.0",
          "model_name": "LayoutModel",
          "state": {
            "_model_module": "@jupyter-widgets/base",
            "_model_module_version": "1.2.0",
            "_model_name": "LayoutModel",
            "_view_count": null,
            "_view_module": "@jupyter-widgets/base",
            "_view_module_version": "1.2.0",
            "_view_name": "LayoutView",
            "align_content": null,
            "align_items": null,
            "align_self": null,
            "border": null,
            "bottom": null,
            "display": null,
            "flex": null,
            "flex_flow": null,
            "grid_area": null,
            "grid_auto_columns": null,
            "grid_auto_flow": null,
            "grid_auto_rows": null,
            "grid_column": null,
            "grid_gap": null,
            "grid_row": null,
            "grid_template_areas": null,
            "grid_template_columns": null,
            "grid_template_rows": null,
            "height": null,
            "justify_content": null,
            "justify_items": null,
            "left": null,
            "margin": null,
            "max_height": null,
            "max_width": null,
            "min_height": null,
            "min_width": null,
            "object_fit": null,
            "object_position": null,
            "order": null,
            "overflow": null,
            "overflow_x": null,
            "overflow_y": null,
            "padding": null,
            "right": null,
            "top": null,
            "visibility": null,
            "width": null
          }
        },
        "28b30e0bae694baf9577dae89a0ed4dd": {
          "model_module": "@jupyter-widgets/base",
          "model_module_version": "1.2.0",
          "model_name": "LayoutModel",
          "state": {
            "_model_module": "@jupyter-widgets/base",
            "_model_module_version": "1.2.0",
            "_model_name": "LayoutModel",
            "_view_count": null,
            "_view_module": "@jupyter-widgets/base",
            "_view_module_version": "1.2.0",
            "_view_name": "LayoutView",
            "align_content": null,
            "align_items": null,
            "align_self": null,
            "border": null,
            "bottom": null,
            "display": null,
            "flex": null,
            "flex_flow": null,
            "grid_area": null,
            "grid_auto_columns": null,
            "grid_auto_flow": null,
            "grid_auto_rows": null,
            "grid_column": null,
            "grid_gap": null,
            "grid_row": null,
            "grid_template_areas": null,
            "grid_template_columns": null,
            "grid_template_rows": null,
            "height": null,
            "justify_content": null,
            "justify_items": null,
            "left": null,
            "margin": null,
            "max_height": null,
            "max_width": null,
            "min_height": null,
            "min_width": null,
            "object_fit": null,
            "object_position": null,
            "order": null,
            "overflow": null,
            "overflow_x": null,
            "overflow_y": null,
            "padding": null,
            "right": null,
            "top": null,
            "visibility": null,
            "width": null
          }
        },
        "41968c66b5bf43fdb8b7dcc6b171cbee": {
          "model_module": "@jupyter-widgets/base",
          "model_module_version": "1.2.0",
          "model_name": "LayoutModel",
          "state": {
            "_model_module": "@jupyter-widgets/base",
            "_model_module_version": "1.2.0",
            "_model_name": "LayoutModel",
            "_view_count": null,
            "_view_module": "@jupyter-widgets/base",
            "_view_module_version": "1.2.0",
            "_view_name": "LayoutView",
            "align_content": null,
            "align_items": null,
            "align_self": null,
            "border": null,
            "bottom": null,
            "display": null,
            "flex": null,
            "flex_flow": null,
            "grid_area": null,
            "grid_auto_columns": null,
            "grid_auto_flow": null,
            "grid_auto_rows": null,
            "grid_column": null,
            "grid_gap": null,
            "grid_row": null,
            "grid_template_areas": null,
            "grid_template_columns": null,
            "grid_template_rows": null,
            "height": null,
            "justify_content": null,
            "justify_items": null,
            "left": null,
            "margin": null,
            "max_height": null,
            "max_width": null,
            "min_height": null,
            "min_width": null,
            "object_fit": null,
            "object_position": null,
            "order": null,
            "overflow": null,
            "overflow_x": null,
            "overflow_y": null,
            "padding": null,
            "right": null,
            "top": null,
            "visibility": null,
            "width": null
          }
        },
        "48934e792a334d60ac492fe8a40f2b16": {
          "model_module": "@jupyter-widgets/base",
          "model_module_version": "1.2.0",
          "model_name": "LayoutModel",
          "state": {
            "_model_module": "@jupyter-widgets/base",
            "_model_module_version": "1.2.0",
            "_model_name": "LayoutModel",
            "_view_count": null,
            "_view_module": "@jupyter-widgets/base",
            "_view_module_version": "1.2.0",
            "_view_name": "LayoutView",
            "align_content": null,
            "align_items": null,
            "align_self": null,
            "border": null,
            "bottom": null,
            "display": null,
            "flex": null,
            "flex_flow": null,
            "grid_area": null,
            "grid_auto_columns": null,
            "grid_auto_flow": null,
            "grid_auto_rows": null,
            "grid_column": null,
            "grid_gap": null,
            "grid_row": null,
            "grid_template_areas": null,
            "grid_template_columns": null,
            "grid_template_rows": null,
            "height": null,
            "justify_content": null,
            "justify_items": null,
            "left": null,
            "margin": null,
            "max_height": null,
            "max_width": null,
            "min_height": null,
            "min_width": null,
            "object_fit": null,
            "object_position": null,
            "order": null,
            "overflow": null,
            "overflow_x": null,
            "overflow_y": null,
            "padding": null,
            "right": null,
            "top": null,
            "visibility": null,
            "width": null
          }
        },
        "4908d8f132af4663be034fade2aa9ada": {
          "model_module": "@jupyter-widgets/base",
          "model_module_version": "1.2.0",
          "model_name": "LayoutModel",
          "state": {
            "_model_module": "@jupyter-widgets/base",
            "_model_module_version": "1.2.0",
            "_model_name": "LayoutModel",
            "_view_count": null,
            "_view_module": "@jupyter-widgets/base",
            "_view_module_version": "1.2.0",
            "_view_name": "LayoutView",
            "align_content": null,
            "align_items": null,
            "align_self": null,
            "border": null,
            "bottom": null,
            "display": null,
            "flex": null,
            "flex_flow": null,
            "grid_area": null,
            "grid_auto_columns": null,
            "grid_auto_flow": null,
            "grid_auto_rows": null,
            "grid_column": null,
            "grid_gap": null,
            "grid_row": null,
            "grid_template_areas": null,
            "grid_template_columns": null,
            "grid_template_rows": null,
            "height": null,
            "justify_content": null,
            "justify_items": null,
            "left": null,
            "margin": null,
            "max_height": null,
            "max_width": null,
            "min_height": null,
            "min_width": null,
            "object_fit": null,
            "object_position": null,
            "order": null,
            "overflow": null,
            "overflow_x": null,
            "overflow_y": null,
            "padding": null,
            "right": null,
            "top": null,
            "visibility": null,
            "width": null
          }
        },
        "4c7dfce1d9ac4bf8b471098cb757d4b3": {
          "model_module": "@jupyter-widgets/controls",
          "model_module_version": "1.5.0",
          "model_name": "HBoxModel",
          "state": {
            "_dom_classes": [],
            "_model_module": "@jupyter-widgets/controls",
            "_model_module_version": "1.5.0",
            "_model_name": "HBoxModel",
            "_view_count": null,
            "_view_module": "@jupyter-widgets/controls",
            "_view_module_version": "1.5.0",
            "_view_name": "HBoxView",
            "box_style": "",
            "children": [
              "IPY_MODEL_de000ba381354125ba0e1e99774fbe62",
              "IPY_MODEL_fe0bd2a3f44e4d97a4b77418b632f950",
              "IPY_MODEL_d640a581259c462199d8278fffe84e0f"
            ],
            "layout": "IPY_MODEL_41968c66b5bf43fdb8b7dcc6b171cbee"
          }
        },
        "56c1813a53a8491095476ccb1de2f0d2": {
          "model_module": "@jupyter-widgets/controls",
          "model_module_version": "1.5.0",
          "model_name": "DescriptionStyleModel",
          "state": {
            "_model_module": "@jupyter-widgets/controls",
            "_model_module_version": "1.5.0",
            "_model_name": "DescriptionStyleModel",
            "_view_count": null,
            "_view_module": "@jupyter-widgets/base",
            "_view_module_version": "1.2.0",
            "_view_name": "StyleView",
            "description_width": ""
          }
        },
        "58bf2b59f0a148bca6799b13c95a3051": {
          "model_module": "@jupyter-widgets/base",
          "model_module_version": "1.2.0",
          "model_name": "LayoutModel",
          "state": {
            "_model_module": "@jupyter-widgets/base",
            "_model_module_version": "1.2.0",
            "_model_name": "LayoutModel",
            "_view_count": null,
            "_view_module": "@jupyter-widgets/base",
            "_view_module_version": "1.2.0",
            "_view_name": "LayoutView",
            "align_content": null,
            "align_items": null,
            "align_self": null,
            "border": null,
            "bottom": null,
            "display": null,
            "flex": null,
            "flex_flow": null,
            "grid_area": null,
            "grid_auto_columns": null,
            "grid_auto_flow": null,
            "grid_auto_rows": null,
            "grid_column": null,
            "grid_gap": null,
            "grid_row": null,
            "grid_template_areas": null,
            "grid_template_columns": null,
            "grid_template_rows": null,
            "height": null,
            "justify_content": null,
            "justify_items": null,
            "left": null,
            "margin": null,
            "max_height": null,
            "max_width": null,
            "min_height": null,
            "min_width": null,
            "object_fit": null,
            "object_position": null,
            "order": null,
            "overflow": null,
            "overflow_x": null,
            "overflow_y": null,
            "padding": null,
            "right": null,
            "top": null,
            "visibility": null,
            "width": null
          }
        },
        "5b1f141344b0494fad1aea6b54ee8749": {
          "model_module": "@jupyter-widgets/base",
          "model_module_version": "1.2.0",
          "model_name": "LayoutModel",
          "state": {
            "_model_module": "@jupyter-widgets/base",
            "_model_module_version": "1.2.0",
            "_model_name": "LayoutModel",
            "_view_count": null,
            "_view_module": "@jupyter-widgets/base",
            "_view_module_version": "1.2.0",
            "_view_name": "LayoutView",
            "align_content": null,
            "align_items": null,
            "align_self": null,
            "border": null,
            "bottom": null,
            "display": null,
            "flex": null,
            "flex_flow": null,
            "grid_area": null,
            "grid_auto_columns": null,
            "grid_auto_flow": null,
            "grid_auto_rows": null,
            "grid_column": null,
            "grid_gap": null,
            "grid_row": null,
            "grid_template_areas": null,
            "grid_template_columns": null,
            "grid_template_rows": null,
            "height": null,
            "justify_content": null,
            "justify_items": null,
            "left": null,
            "margin": null,
            "max_height": null,
            "max_width": null,
            "min_height": null,
            "min_width": null,
            "object_fit": null,
            "object_position": null,
            "order": null,
            "overflow": null,
            "overflow_x": null,
            "overflow_y": null,
            "padding": null,
            "right": null,
            "top": null,
            "visibility": null,
            "width": null
          }
        },
        "60659b75dacb476789da7b0618503235": {
          "model_module": "@jupyter-widgets/controls",
          "model_module_version": "1.5.0",
          "model_name": "HTMLModel",
          "state": {
            "_dom_classes": [],
            "_model_module": "@jupyter-widgets/controls",
            "_model_module_version": "1.5.0",
            "_model_name": "HTMLModel",
            "_view_count": null,
            "_view_module": "@jupyter-widgets/controls",
            "_view_module_version": "1.5.0",
            "_view_name": "HTMLView",
            "description": "",
            "description_tooltip": null,
            "layout": "IPY_MODEL_4908d8f132af4663be034fade2aa9ada",
            "placeholder": "​",
            "style": "IPY_MODEL_91a12402a465488abb1011d8d68c2e84",
            "value": "tokenizer_config.json: 100%"
          }
        },
        "623e06a4d2ff4fd1afdbe312caecdbe6": {
          "model_module": "@jupyter-widgets/base",
          "model_module_version": "1.2.0",
          "model_name": "LayoutModel",
          "state": {
            "_model_module": "@jupyter-widgets/base",
            "_model_module_version": "1.2.0",
            "_model_name": "LayoutModel",
            "_view_count": null,
            "_view_module": "@jupyter-widgets/base",
            "_view_module_version": "1.2.0",
            "_view_name": "LayoutView",
            "align_content": null,
            "align_items": null,
            "align_self": null,
            "border": null,
            "bottom": null,
            "display": null,
            "flex": null,
            "flex_flow": null,
            "grid_area": null,
            "grid_auto_columns": null,
            "grid_auto_flow": null,
            "grid_auto_rows": null,
            "grid_column": null,
            "grid_gap": null,
            "grid_row": null,
            "grid_template_areas": null,
            "grid_template_columns": null,
            "grid_template_rows": null,
            "height": null,
            "justify_content": null,
            "justify_items": null,
            "left": null,
            "margin": null,
            "max_height": null,
            "max_width": null,
            "min_height": null,
            "min_width": null,
            "object_fit": null,
            "object_position": null,
            "order": null,
            "overflow": null,
            "overflow_x": null,
            "overflow_y": null,
            "padding": null,
            "right": null,
            "top": null,
            "visibility": null,
            "width": null
          }
        },
        "6ae02e22bd874574af874750562fb7c5": {
          "model_module": "@jupyter-widgets/controls",
          "model_module_version": "1.5.0",
          "model_name": "FloatProgressModel",
          "state": {
            "_dom_classes": [],
            "_model_module": "@jupyter-widgets/controls",
            "_model_module_version": "1.5.0",
            "_model_name": "FloatProgressModel",
            "_view_count": null,
            "_view_module": "@jupyter-widgets/controls",
            "_view_module_version": "1.5.0",
            "_view_name": "ProgressView",
            "bar_style": "success",
            "description": "",
            "description_tooltip": null,
            "layout": "IPY_MODEL_9061028b02ea4b008ee47be66d08ed56",
            "max": 231508,
            "min": 0,
            "orientation": "horizontal",
            "style": "IPY_MODEL_196d48c7d52d4acebf59979e391a1033",
            "value": 231508
          }
        },
        "76d5db434ed54efe9dc52c2062048aae": {
          "model_module": "@jupyter-widgets/controls",
          "model_module_version": "1.5.0",
          "model_name": "DescriptionStyleModel",
          "state": {
            "_model_module": "@jupyter-widgets/controls",
            "_model_module_version": "1.5.0",
            "_model_name": "DescriptionStyleModel",
            "_view_count": null,
            "_view_module": "@jupyter-widgets/base",
            "_view_module_version": "1.2.0",
            "_view_name": "StyleView",
            "description_width": ""
          }
        },
        "7b859011554640078c6cc14df7cd20bd": {
          "model_module": "@jupyter-widgets/controls",
          "model_module_version": "1.5.0",
          "model_name": "ProgressStyleModel",
          "state": {
            "_model_module": "@jupyter-widgets/controls",
            "_model_module_version": "1.5.0",
            "_model_name": "ProgressStyleModel",
            "_view_count": null,
            "_view_module": "@jupyter-widgets/base",
            "_view_module_version": "1.2.0",
            "_view_name": "StyleView",
            "bar_color": null,
            "description_width": ""
          }
        },
        "8b745766a4e44fad8ebaf2a7fd5a98c4": {
          "model_module": "@jupyter-widgets/controls",
          "model_module_version": "1.5.0",
          "model_name": "ProgressStyleModel",
          "state": {
            "_model_module": "@jupyter-widgets/controls",
            "_model_module_version": "1.5.0",
            "_model_name": "ProgressStyleModel",
            "_view_count": null,
            "_view_module": "@jupyter-widgets/base",
            "_view_module_version": "1.2.0",
            "_view_name": "StyleView",
            "bar_color": null,
            "description_width": ""
          }
        },
        "9061028b02ea4b008ee47be66d08ed56": {
          "model_module": "@jupyter-widgets/base",
          "model_module_version": "1.2.0",
          "model_name": "LayoutModel",
          "state": {
            "_model_module": "@jupyter-widgets/base",
            "_model_module_version": "1.2.0",
            "_model_name": "LayoutModel",
            "_view_count": null,
            "_view_module": "@jupyter-widgets/base",
            "_view_module_version": "1.2.0",
            "_view_name": "LayoutView",
            "align_content": null,
            "align_items": null,
            "align_self": null,
            "border": null,
            "bottom": null,
            "display": null,
            "flex": null,
            "flex_flow": null,
            "grid_area": null,
            "grid_auto_columns": null,
            "grid_auto_flow": null,
            "grid_auto_rows": null,
            "grid_column": null,
            "grid_gap": null,
            "grid_row": null,
            "grid_template_areas": null,
            "grid_template_columns": null,
            "grid_template_rows": null,
            "height": null,
            "justify_content": null,
            "justify_items": null,
            "left": null,
            "margin": null,
            "max_height": null,
            "max_width": null,
            "min_height": null,
            "min_width": null,
            "object_fit": null,
            "object_position": null,
            "order": null,
            "overflow": null,
            "overflow_x": null,
            "overflow_y": null,
            "padding": null,
            "right": null,
            "top": null,
            "visibility": null,
            "width": null
          }
        },
        "906fc4516456406ba36ad82f17d15518": {
          "model_module": "@jupyter-widgets/base",
          "model_module_version": "1.2.0",
          "model_name": "LayoutModel",
          "state": {
            "_model_module": "@jupyter-widgets/base",
            "_model_module_version": "1.2.0",
            "_model_name": "LayoutModel",
            "_view_count": null,
            "_view_module": "@jupyter-widgets/base",
            "_view_module_version": "1.2.0",
            "_view_name": "LayoutView",
            "align_content": null,
            "align_items": null,
            "align_self": null,
            "border": null,
            "bottom": null,
            "display": null,
            "flex": null,
            "flex_flow": null,
            "grid_area": null,
            "grid_auto_columns": null,
            "grid_auto_flow": null,
            "grid_auto_rows": null,
            "grid_column": null,
            "grid_gap": null,
            "grid_row": null,
            "grid_template_areas": null,
            "grid_template_columns": null,
            "grid_template_rows": null,
            "height": null,
            "justify_content": null,
            "justify_items": null,
            "left": null,
            "margin": null,
            "max_height": null,
            "max_width": null,
            "min_height": null,
            "min_width": null,
            "object_fit": null,
            "object_position": null,
            "order": null,
            "overflow": null,
            "overflow_x": null,
            "overflow_y": null,
            "padding": null,
            "right": null,
            "top": null,
            "visibility": null,
            "width": null
          }
        },
        "9199e5beb2bb44a9b6d7212f9e810661": {
          "model_module": "@jupyter-widgets/controls",
          "model_module_version": "1.5.0",
          "model_name": "HTMLModel",
          "state": {
            "_dom_classes": [],
            "_model_module": "@jupyter-widgets/controls",
            "_model_module_version": "1.5.0",
            "_model_name": "HTMLModel",
            "_view_count": null,
            "_view_module": "@jupyter-widgets/controls",
            "_view_module_version": "1.5.0",
            "_view_name": "HTMLView",
            "description": "",
            "description_tooltip": null,
            "layout": "IPY_MODEL_a4aadfcc5e094702911f19fd357c432f",
            "placeholder": "​",
            "style": "IPY_MODEL_56c1813a53a8491095476ccb1de2f0d2",
            "value": "vocab.txt: 100%"
          }
        },
        "91a12402a465488abb1011d8d68c2e84": {
          "model_module": "@jupyter-widgets/controls",
          "model_module_version": "1.5.0",
          "model_name": "DescriptionStyleModel",
          "state": {
            "_model_module": "@jupyter-widgets/controls",
            "_model_module_version": "1.5.0",
            "_model_name": "DescriptionStyleModel",
            "_view_count": null,
            "_view_module": "@jupyter-widgets/base",
            "_view_module_version": "1.2.0",
            "_view_name": "StyleView",
            "description_width": ""
          }
        },
        "93393336567d4ed2ae2acd840c20dab8": {
          "model_module": "@jupyter-widgets/controls",
          "model_module_version": "1.5.0",
          "model_name": "HBoxModel",
          "state": {
            "_dom_classes": [],
            "_model_module": "@jupyter-widgets/controls",
            "_model_module_version": "1.5.0",
            "_model_name": "HBoxModel",
            "_view_count": null,
            "_view_module": "@jupyter-widgets/controls",
            "_view_module_version": "1.5.0",
            "_view_name": "HBoxView",
            "box_style": "",
            "children": [
              "IPY_MODEL_60659b75dacb476789da7b0618503235",
              "IPY_MODEL_1c33b49959c641c89a8b03fd25815adf",
              "IPY_MODEL_11e52696ea984f9997a50bbae435732e"
            ],
            "layout": "IPY_MODEL_5b1f141344b0494fad1aea6b54ee8749"
          }
        },
        "9ca777a1b41a46bebc0af4cf32c4e441": {
          "model_module": "@jupyter-widgets/controls",
          "model_module_version": "1.5.0",
          "model_name": "FloatProgressModel",
          "state": {
            "_dom_classes": [],
            "_model_module": "@jupyter-widgets/controls",
            "_model_module_version": "1.5.0",
            "_model_name": "FloatProgressModel",
            "_view_count": null,
            "_view_module": "@jupyter-widgets/controls",
            "_view_module_version": "1.5.0",
            "_view_name": "ProgressView",
            "bar_style": "success",
            "description": "",
            "description_tooltip": null,
            "layout": "IPY_MODEL_d0385948c69443d79b1553a75d72da10",
            "max": 483,
            "min": 0,
            "orientation": "horizontal",
            "style": "IPY_MODEL_8b745766a4e44fad8ebaf2a7fd5a98c4",
            "value": 483
          }
        },
        "a265ade2f9d8484086dcad3c113ddd13": {
          "model_module": "@jupyter-widgets/controls",
          "model_module_version": "1.5.0",
          "model_name": "ProgressStyleModel",
          "state": {
            "_model_module": "@jupyter-widgets/controls",
            "_model_module_version": "1.5.0",
            "_model_name": "ProgressStyleModel",
            "_view_count": null,
            "_view_module": "@jupyter-widgets/base",
            "_view_module_version": "1.2.0",
            "_view_name": "StyleView",
            "bar_color": null,
            "description_width": ""
          }
        },
        "a4aadfcc5e094702911f19fd357c432f": {
          "model_module": "@jupyter-widgets/base",
          "model_module_version": "1.2.0",
          "model_name": "LayoutModel",
          "state": {
            "_model_module": "@jupyter-widgets/base",
            "_model_module_version": "1.2.0",
            "_model_name": "LayoutModel",
            "_view_count": null,
            "_view_module": "@jupyter-widgets/base",
            "_view_module_version": "1.2.0",
            "_view_name": "LayoutView",
            "align_content": null,
            "align_items": null,
            "align_self": null,
            "border": null,
            "bottom": null,
            "display": null,
            "flex": null,
            "flex_flow": null,
            "grid_area": null,
            "grid_auto_columns": null,
            "grid_auto_flow": null,
            "grid_auto_rows": null,
            "grid_column": null,
            "grid_gap": null,
            "grid_row": null,
            "grid_template_areas": null,
            "grid_template_columns": null,
            "grid_template_rows": null,
            "height": null,
            "justify_content": null,
            "justify_items": null,
            "left": null,
            "margin": null,
            "max_height": null,
            "max_width": null,
            "min_height": null,
            "min_width": null,
            "object_fit": null,
            "object_position": null,
            "order": null,
            "overflow": null,
            "overflow_x": null,
            "overflow_y": null,
            "padding": null,
            "right": null,
            "top": null,
            "visibility": null,
            "width": null
          }
        },
        "ab343f5310ec4527b3a24f5c738b019d": {
          "model_module": "@jupyter-widgets/controls",
          "model_module_version": "1.5.0",
          "model_name": "HBoxModel",
          "state": {
            "_dom_classes": [],
            "_model_module": "@jupyter-widgets/controls",
            "_model_module_version": "1.5.0",
            "_model_name": "HBoxModel",
            "_view_count": null,
            "_view_module": "@jupyter-widgets/controls",
            "_view_module_version": "1.5.0",
            "_view_name": "HBoxView",
            "box_style": "",
            "children": [
              "IPY_MODEL_9199e5beb2bb44a9b6d7212f9e810661",
              "IPY_MODEL_6ae02e22bd874574af874750562fb7c5",
              "IPY_MODEL_fceaa9b8787e40f9b653324bba3fd788"
            ],
            "layout": "IPY_MODEL_bdd5a940c267422591eceb0b0274819d"
          }
        },
        "aed5faa1e6a94015b0981f23151f07ac": {
          "model_module": "@jupyter-widgets/controls",
          "model_module_version": "1.5.0",
          "model_name": "DescriptionStyleModel",
          "state": {
            "_model_module": "@jupyter-widgets/controls",
            "_model_module_version": "1.5.0",
            "_model_name": "DescriptionStyleModel",
            "_view_count": null,
            "_view_module": "@jupyter-widgets/base",
            "_view_module_version": "1.2.0",
            "_view_name": "StyleView",
            "description_width": ""
          }
        },
        "af5026ff689a45ed82a103cffa923023": {
          "model_module": "@jupyter-widgets/controls",
          "model_module_version": "1.5.0",
          "model_name": "DescriptionStyleModel",
          "state": {
            "_model_module": "@jupyter-widgets/controls",
            "_model_module_version": "1.5.0",
            "_model_name": "DescriptionStyleModel",
            "_view_count": null,
            "_view_module": "@jupyter-widgets/base",
            "_view_module_version": "1.2.0",
            "_view_name": "StyleView",
            "description_width": ""
          }
        },
        "b01c746cd600405dbe4e3db2ae08d6d1": {
          "model_module": "@jupyter-widgets/controls",
          "model_module_version": "1.5.0",
          "model_name": "HBoxModel",
          "state": {
            "_dom_classes": [],
            "_model_module": "@jupyter-widgets/controls",
            "_model_module_version": "1.5.0",
            "_model_name": "HBoxModel",
            "_view_count": null,
            "_view_module": "@jupyter-widgets/controls",
            "_view_module_version": "1.5.0",
            "_view_name": "HBoxView",
            "box_style": "",
            "children": [
              "IPY_MODEL_bbd304dc98e74bb7a7ff3b997aa3fdef",
              "IPY_MODEL_9ca777a1b41a46bebc0af4cf32c4e441",
              "IPY_MODEL_f62e00131c8c4440a0a02a19f70e0ce8"
            ],
            "layout": "IPY_MODEL_623e06a4d2ff4fd1afdbe312caecdbe6"
          }
        },
        "bbd304dc98e74bb7a7ff3b997aa3fdef": {
          "model_module": "@jupyter-widgets/controls",
          "model_module_version": "1.5.0",
          "model_name": "HTMLModel",
          "state": {
            "_dom_classes": [],
            "_model_module": "@jupyter-widgets/controls",
            "_model_module_version": "1.5.0",
            "_model_name": "HTMLModel",
            "_view_count": null,
            "_view_module": "@jupyter-widgets/controls",
            "_view_module_version": "1.5.0",
            "_view_name": "HTMLView",
            "description": "",
            "description_tooltip": null,
            "layout": "IPY_MODEL_58bf2b59f0a148bca6799b13c95a3051",
            "placeholder": "​",
            "style": "IPY_MODEL_aed5faa1e6a94015b0981f23151f07ac",
            "value": "config.json: 100%"
          }
        },
        "bdd5a940c267422591eceb0b0274819d": {
          "model_module": "@jupyter-widgets/base",
          "model_module_version": "1.2.0",
          "model_name": "LayoutModel",
          "state": {
            "_model_module": "@jupyter-widgets/base",
            "_model_module_version": "1.2.0",
            "_model_name": "LayoutModel",
            "_view_count": null,
            "_view_module": "@jupyter-widgets/base",
            "_view_module_version": "1.2.0",
            "_view_name": "LayoutView",
            "align_content": null,
            "align_items": null,
            "align_self": null,
            "border": null,
            "bottom": null,
            "display": null,
            "flex": null,
            "flex_flow": null,
            "grid_area": null,
            "grid_auto_columns": null,
            "grid_auto_flow": null,
            "grid_auto_rows": null,
            "grid_column": null,
            "grid_gap": null,
            "grid_row": null,
            "grid_template_areas": null,
            "grid_template_columns": null,
            "grid_template_rows": null,
            "height": null,
            "justify_content": null,
            "justify_items": null,
            "left": null,
            "margin": null,
            "max_height": null,
            "max_width": null,
            "min_height": null,
            "min_width": null,
            "object_fit": null,
            "object_position": null,
            "order": null,
            "overflow": null,
            "overflow_x": null,
            "overflow_y": null,
            "padding": null,
            "right": null,
            "top": null,
            "visibility": null,
            "width": null
          }
        },
        "c78b30350c064936980eff365254b5bf": {
          "model_module": "@jupyter-widgets/base",
          "model_module_version": "1.2.0",
          "model_name": "LayoutModel",
          "state": {
            "_model_module": "@jupyter-widgets/base",
            "_model_module_version": "1.2.0",
            "_model_name": "LayoutModel",
            "_view_count": null,
            "_view_module": "@jupyter-widgets/base",
            "_view_module_version": "1.2.0",
            "_view_name": "LayoutView",
            "align_content": null,
            "align_items": null,
            "align_self": null,
            "border": null,
            "bottom": null,
            "display": null,
            "flex": null,
            "flex_flow": null,
            "grid_area": null,
            "grid_auto_columns": null,
            "grid_auto_flow": null,
            "grid_auto_rows": null,
            "grid_column": null,
            "grid_gap": null,
            "grid_row": null,
            "grid_template_areas": null,
            "grid_template_columns": null,
            "grid_template_rows": null,
            "height": null,
            "justify_content": null,
            "justify_items": null,
            "left": null,
            "margin": null,
            "max_height": null,
            "max_width": null,
            "min_height": null,
            "min_width": null,
            "object_fit": null,
            "object_position": null,
            "order": null,
            "overflow": null,
            "overflow_x": null,
            "overflow_y": null,
            "padding": null,
            "right": null,
            "top": null,
            "visibility": null,
            "width": null
          }
        },
        "cd9ed3d63c004b22a249f8fce503daf8": {
          "model_module": "@jupyter-widgets/controls",
          "model_module_version": "1.5.0",
          "model_name": "DescriptionStyleModel",
          "state": {
            "_model_module": "@jupyter-widgets/controls",
            "_model_module_version": "1.5.0",
            "_model_name": "DescriptionStyleModel",
            "_view_count": null,
            "_view_module": "@jupyter-widgets/base",
            "_view_module_version": "1.2.0",
            "_view_name": "StyleView",
            "description_width": ""
          }
        },
        "d0385948c69443d79b1553a75d72da10": {
          "model_module": "@jupyter-widgets/base",
          "model_module_version": "1.2.0",
          "model_name": "LayoutModel",
          "state": {
            "_model_module": "@jupyter-widgets/base",
            "_model_module_version": "1.2.0",
            "_model_name": "LayoutModel",
            "_view_count": null,
            "_view_module": "@jupyter-widgets/base",
            "_view_module_version": "1.2.0",
            "_view_name": "LayoutView",
            "align_content": null,
            "align_items": null,
            "align_self": null,
            "border": null,
            "bottom": null,
            "display": null,
            "flex": null,
            "flex_flow": null,
            "grid_area": null,
            "grid_auto_columns": null,
            "grid_auto_flow": null,
            "grid_auto_rows": null,
            "grid_column": null,
            "grid_gap": null,
            "grid_row": null,
            "grid_template_areas": null,
            "grid_template_columns": null,
            "grid_template_rows": null,
            "height": null,
            "justify_content": null,
            "justify_items": null,
            "left": null,
            "margin": null,
            "max_height": null,
            "max_width": null,
            "min_height": null,
            "min_width": null,
            "object_fit": null,
            "object_position": null,
            "order": null,
            "overflow": null,
            "overflow_x": null,
            "overflow_y": null,
            "padding": null,
            "right": null,
            "top": null,
            "visibility": null,
            "width": null
          }
        },
        "d640a581259c462199d8278fffe84e0f": {
          "model_module": "@jupyter-widgets/controls",
          "model_module_version": "1.5.0",
          "model_name": "HTMLModel",
          "state": {
            "_dom_classes": [],
            "_model_module": "@jupyter-widgets/controls",
            "_model_module_version": "1.5.0",
            "_model_name": "HTMLModel",
            "_view_count": null,
            "_view_module": "@jupyter-widgets/controls",
            "_view_module_version": "1.5.0",
            "_view_name": "HTMLView",
            "description": "",
            "description_tooltip": null,
            "layout": "IPY_MODEL_28b30e0bae694baf9577dae89a0ed4dd",
            "placeholder": "​",
            "style": "IPY_MODEL_af5026ff689a45ed82a103cffa923023",
            "value": " 466k/466k [00:00&lt;00:00, 14.5MB/s]"
          }
        },
        "de000ba381354125ba0e1e99774fbe62": {
          "model_module": "@jupyter-widgets/controls",
          "model_module_version": "1.5.0",
          "model_name": "HTMLModel",
          "state": {
            "_dom_classes": [],
            "_model_module": "@jupyter-widgets/controls",
            "_model_module_version": "1.5.0",
            "_model_name": "HTMLModel",
            "_view_count": null,
            "_view_module": "@jupyter-widgets/controls",
            "_view_module_version": "1.5.0",
            "_view_name": "HTMLView",
            "description": "",
            "description_tooltip": null,
            "layout": "IPY_MODEL_48934e792a334d60ac492fe8a40f2b16",
            "placeholder": "​",
            "style": "IPY_MODEL_17f3834045b84ee9a03ab434c450dab2",
            "value": "tokenizer.json: 100%"
          }
        },
        "f62e00131c8c4440a0a02a19f70e0ce8": {
          "model_module": "@jupyter-widgets/controls",
          "model_module_version": "1.5.0",
          "model_name": "HTMLModel",
          "state": {
            "_dom_classes": [],
            "_model_module": "@jupyter-widgets/controls",
            "_model_module_version": "1.5.0",
            "_model_name": "HTMLModel",
            "_view_count": null,
            "_view_module": "@jupyter-widgets/controls",
            "_view_module_version": "1.5.0",
            "_view_name": "HTMLView",
            "description": "",
            "description_tooltip": null,
            "layout": "IPY_MODEL_906fc4516456406ba36ad82f17d15518",
            "placeholder": "​",
            "style": "IPY_MODEL_cd9ed3d63c004b22a249f8fce503daf8",
            "value": " 483/483 [00:00&lt;00:00, 11.7kB/s]"
          }
        },
        "fceaa9b8787e40f9b653324bba3fd788": {
          "model_module": "@jupyter-widgets/controls",
          "model_module_version": "1.5.0",
          "model_name": "HTMLModel",
          "state": {
            "_dom_classes": [],
            "_model_module": "@jupyter-widgets/controls",
            "_model_module_version": "1.5.0",
            "_model_name": "HTMLModel",
            "_view_count": null,
            "_view_module": "@jupyter-widgets/controls",
            "_view_module_version": "1.5.0",
            "_view_name": "HTMLView",
            "description": "",
            "description_tooltip": null,
            "layout": "IPY_MODEL_28aa58a041ce4438b82911197af7b435",
            "placeholder": "​",
            "style": "IPY_MODEL_76d5db434ed54efe9dc52c2062048aae",
            "value": " 232k/232k [00:00&lt;00:00, 691kB/s]"
          }
        },
        "fe0bd2a3f44e4d97a4b77418b632f950": {
          "model_module": "@jupyter-widgets/controls",
          "model_module_version": "1.5.0",
          "model_name": "FloatProgressModel",
          "state": {
            "_dom_classes": [],
            "_model_module": "@jupyter-widgets/controls",
            "_model_module_version": "1.5.0",
            "_model_name": "FloatProgressModel",
            "_view_count": null,
            "_view_module": "@jupyter-widgets/controls",
            "_view_module_version": "1.5.0",
            "_view_name": "ProgressView",
            "bar_style": "success",
            "description": "",
            "description_tooltip": null,
            "layout": "IPY_MODEL_c78b30350c064936980eff365254b5bf",
            "max": 466062,
            "min": 0,
            "orientation": "horizontal",
            "style": "IPY_MODEL_a265ade2f9d8484086dcad3c113ddd13",
            "value": 466062
          }
        }
      }
    }
  },
  "nbformat": 4,
  "nbformat_minor": 0
}
